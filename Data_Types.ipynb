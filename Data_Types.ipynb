{
  "nbformat": 4,
  "nbformat_minor": 0,
  "metadata": {
    "colab": {
      "provenance": []
    },
    "kernelspec": {
      "name": "python3",
      "display_name": "Python 3"
    },
    "language_info": {
      "name": "python"
    }
  },
  "cells": [
    {
      "cell_type": "markdown",
      "source": [
        "List Comprehensions"
      ],
      "metadata": {
        "id": "_6xS2hdPpY-9"
      }
    },
    {
      "cell_type": "code",
      "execution_count": null,
      "metadata": {
        "id": "4e42clSF1BLQ"
      },
      "outputs": [],
      "source": [
        "x = int(input())\n",
        "y = int(input())\n",
        "z = int(input())\n",
        "n = int(input())\n",
        "\n",
        "# Create a list comprehension to generate all possible combinations of i, j, and k where 0 <= i <= x, 0 <= j <= y, 0 <= k <= z\n",
        "combinations = [[i, j, k] for i in range(x+1) for j in range(y+1) for k in range(z+1)]\n",
        "filtered_combinations = [combination for combination in combinations if sum (combination) != n]\n",
        "sorted_combinations = sorted(filtered_combinations)\n",
        "print(sorted_combinations)"
      ]
    },
    {
      "cell_type": "markdown",
      "source": [
        "Runner Up"
      ],
      "metadata": {
        "id": "ggovVfsEIrMk"
      }
    },
    {
      "cell_type": "code",
      "source": [
        "if __name__ == '__main__':\n",
        "    n = int(input())\n",
        "    arr = map(int, input().split())\n",
        "    \n",
        "    sorted_arr = sorted(list(set(arr)), reverse=True)\n",
        "    # if there is no runner-up score, return the highest score\n",
        "    if len(sorted_arr) < 2:\n",
        "        print(sorted_arr[0])\n",
        "    else:\n",
        "        print(sorted_arr[1])"
      ],
      "metadata": {
        "id": "bwdbzlOQr92s"
      },
      "execution_count": null,
      "outputs": []
    },
    {
      "cell_type": "markdown",
      "source": [
        "Nested lists"
      ],
      "metadata": {
        "id": "-wmSMIhhJSO8"
      }
    },
    {
      "cell_type": "code",
      "source": [
        "if __name__ == '__main__':\n",
        "    students = {}\n",
        "    for _ in range(int(input())):\n",
        "        name = input()\n",
        "        score = float(input())\n",
        "        students[name] = score\n",
        "\n",
        "# find second lowest score\n",
        "scores = set(students.values())\n",
        "scores.remove(min(scores))\n",
        "second_lowest_score = min(scores)\n",
        "\n",
        "# collect names of students with second lowest score\n",
        "names = [name for name, score in students.items() if score == second_lowest_score]\n",
        "\n",
        "# sort names in alphabetical order\n",
        "names.sort()\n",
        "\n",
        "# print names of students with second lowest score\n",
        "for name in names:\n",
        "    print(name)"
      ],
      "metadata": {
        "id": "xjes2GsAr9qe"
      },
      "execution_count": null,
      "outputs": []
    },
    {
      "cell_type": "markdown",
      "source": [
        "Find the percentage"
      ],
      "metadata": {
        "id": "EtBAZgtbJVXc"
      }
    },
    {
      "cell_type": "code",
      "source": [
        "if __name__ == '__main__':\n",
        "    n = int(input())\n",
        "    student_marks = {}\n",
        "    for _ in range(n):\n",
        "        name, *line = input().split()\n",
        "        scores = list(map(float, line))\n",
        "        student_marks[name] = scores\n",
        "    query_name = input()\n",
        "    \n",
        "    # calculate the average of the marks for the student name provided\n",
        "    marks = student_marks[query_name]\n",
        "    average = sum(marks) / len(marks)\n",
        "    print(\"{:.2f}\".format(average))"
      ],
      "metadata": {
        "id": "6XaT3L9DwqXE"
      },
      "execution_count": null,
      "outputs": []
    },
    {
      "cell_type": "markdown",
      "source": [
        "Lists"
      ],
      "metadata": {
        "id": "UcteVKZ0J27U"
      }
    },
    {
      "cell_type": "code",
      "source": [
        "if __name__ == '__main__':\n",
        "    N = int(input())\n",
        "    lst = []\n",
        "    for i in range(N):\n",
        "        command = input().split()\n",
        "        if command[0] == \"insert\":\n",
        "            lst.insert(int(command[1]), int(command[2]))\n",
        "        elif command[0] == \"print\":\n",
        "            print(lst)\n",
        "        elif command[0] == \"remove\":\n",
        "            lst.remove(int(command[1]))\n",
        "        elif command[0] == \"append\":\n",
        "            lst.append(int(command[1]))\n",
        "        elif command[0] == \"sort\":\n",
        "            lst.sort()\n",
        "        elif command[0] == \"pop\":\n",
        "            lst.pop()\n",
        "        elif command[0] == \"reverse\":\n",
        "            lst.reverse()"
      ],
      "metadata": {
        "id": "mmYlQd-FzaUn"
      },
      "execution_count": null,
      "outputs": []
    },
    {
      "cell_type": "markdown",
      "source": [
        "Tuples"
      ],
      "metadata": {
        "id": "nDgT-m_TJ_7c"
      }
    },
    {
      "cell_type": "code",
      "source": [
        "if __name__ == '__main__':\n",
        "    n = int(input())\n",
        "    integer_list = map(int, input().split())\n",
        "    t = tuple(integer_list)\n",
        "    print(hash(t))"
      ],
      "metadata": {
        "id": "lc4ZOX2dzbQH"
      },
      "execution_count": null,
      "outputs": []
    },
    {
      "cell_type": "markdown",
      "source": [
        "Intro to sets"
      ],
      "metadata": {
        "id": "uEETnzJILiqE"
      }
    },
    {
      "cell_type": "code",
      "source": [
        "def average(array):\n",
        "    return sum(set(array)) / len(set(array))\n",
        "    \n",
        "if __name__ == '__main__':\n",
        "    n = int(input())\n",
        "    arr = list(map(int, input().split()))\n",
        "    result = average(arr)\n",
        "    print(result)"
      ],
      "metadata": {
        "id": "P_xMx3JPLhm2"
      },
      "execution_count": null,
      "outputs": []
    },
    {
      "cell_type": "markdown",
      "source": [
        "Symmetric Difference"
      ],
      "metadata": {
        "id": "B69KlssuMDJz"
      }
    },
    {
      "cell_type": "code",
      "source": [
        "m = int(input())\n",
        "a = set(map(int, input().split()))\n",
        "n = int(input())\n",
        "b = set(map(int, input().split()))\n",
        "\n",
        "i = a.symmetric_difference(b) \n",
        "for num in sorted(i):\n",
        "    print(num)"
      ],
      "metadata": {
        "id": "PincMre6MDfz"
      },
      "execution_count": null,
      "outputs": []
    },
    {
      "cell_type": "markdown",
      "source": [
        "No idea"
      ],
      "metadata": {
        "id": "gBrjFlcoMXZ8"
      }
    },
    {
      "cell_type": "code",
      "source": [
        "n, m = list(map(int, input().split()))\n",
        "lst = list(map(int, input().split()))\n",
        "a = set(map(int, input().split()))\n",
        "b = set(map(int, input().split()))\n",
        "print(sum([1 if i in a else -1 if i in b else 0 for i in lst]))"
      ],
      "metadata": {
        "id": "6lCbIJngMXu7"
      },
      "execution_count": null,
      "outputs": []
    },
    {
      "cell_type": "markdown",
      "source": [
        "Set.add"
      ],
      "metadata": {
        "id": "Sd356RrMMYC-"
      }
    },
    {
      "cell_type": "code",
      "source": [
        "n = int(input())\n",
        "s = set()\n",
        "for i in range(n):\n",
        "    s.add(input())\n",
        "print(len(s))"
      ],
      "metadata": {
        "id": "Vpz9k3VvMYUT"
      },
      "execution_count": null,
      "outputs": []
    },
    {
      "cell_type": "markdown",
      "source": [
        "Set .discard(), .remove() & .pop()"
      ],
      "metadata": {
        "id": "9i9KV6kzOyK0"
      }
    },
    {
      "cell_type": "code",
      "source": [
        "n, s = input(), set(map(int, input().split()))\n",
        "for _ in range(int(input())):\n",
        "        cmd, *args = input().split()\n",
        "        args = map(int, args)\n",
        "        eval(f's.{cmd}(*args)') \n",
        "print(sum(s))"
      ],
      "metadata": {
        "id": "3VuWR5OpOyms"
      },
      "execution_count": null,
      "outputs": []
    },
    {
      "cell_type": "markdown",
      "source": [
        "Set.union()"
      ],
      "metadata": {
        "id": "4VqRNQM2Pos0"
      }
    },
    {
      "cell_type": "code",
      "source": [
        "m = int(input())\n",
        "a = set(map(int,input().split()))\n",
        "n = int(input())\n",
        "b = set(map(int,input().split()))\n",
        "print(len(a.union(b)))"
      ],
      "metadata": {
        "id": "qx4OqIzrPpB7"
      },
      "execution_count": null,
      "outputs": []
    },
    {
      "cell_type": "markdown",
      "source": [
        "Set.intersection()"
      ],
      "metadata": {
        "id": "kQHusHM4PtxD"
      }
    },
    {
      "cell_type": "code",
      "source": [
        "m = int(input())\n",
        "a = set(map(int,input().split()))\n",
        "n = int(input())\n",
        "b = set(map(int,input().split()))\n",
        "x =a.intersection(b)\n",
        "print(len(x))"
      ],
      "metadata": {
        "id": "30xdNcxUPuC7"
      },
      "execution_count": null,
      "outputs": []
    },
    {
      "cell_type": "markdown",
      "source": [
        "Set.difference()"
      ],
      "metadata": {
        "id": "gEgI9kUOP-6L"
      }
    },
    {
      "cell_type": "code",
      "source": [
        "m = int(input())\n",
        "a = set(map(int,input().split()))\n",
        "n = int(input())\n",
        "b = set(map(int,input().split()))\n",
        "print(len(a.difference(b)))"
      ],
      "metadata": {
        "id": "kUqWtw1cP_R0"
      },
      "execution_count": null,
      "outputs": []
    },
    {
      "cell_type": "markdown",
      "source": [
        "Set.symmetric_difference()"
      ],
      "metadata": {
        "id": "t3B6Rs3_P_rK"
      }
    },
    {
      "cell_type": "code",
      "source": [
        "n=int(input())\n",
        "a=set(map(int,input().split()))\n",
        "m=int(input())\n",
        "b=set(map(int,input().split()))\n",
        "print(len(a^b))"
      ],
      "metadata": {
        "id": "Z_lEv5yfQACr"
      },
      "execution_count": null,
      "outputs": []
    },
    {
      "cell_type": "markdown",
      "source": [
        "Set Mutations"
      ],
      "metadata": {
        "id": "3Wp4JXPoRiFD"
      }
    },
    {
      "cell_type": "code",
      "source": [
        "n = input()\n",
        "A = set(map(int, input().split()))\n",
        "m = int(input())\n",
        "for i in range(m):\n",
        "    opr, R = (input().split()[0]), set(map(int, input().split()))\n",
        "    exec(f'A.{opr}(R)')\n",
        "    \n",
        "print(sum(A))"
      ],
      "metadata": {
        "id": "Yo08jrZ0RiZk"
      },
      "execution_count": null,
      "outputs": []
    },
    {
      "cell_type": "markdown",
      "source": [
        "The Captain's Room"
      ],
      "metadata": {
        "id": "lJXkR7EVRmAd"
      }
    },
    {
      "cell_type": "code",
      "source": [
        "from collections import Counter\n",
        "K = int(input())\n",
        "n = list(map(int,input().split()))\n",
        "c = Counter(n)\n",
        "print([key for key, count in c.items() if count==1][0])"
      ],
      "metadata": {
        "id": "bQCXDVA2Rmlc"
      },
      "execution_count": null,
      "outputs": []
    },
    {
      "cell_type": "markdown",
      "source": [
        "Check Subset"
      ],
      "metadata": {
        "id": "mL8YXjVNSkDM"
      }
    },
    {
      "cell_type": "code",
      "source": [
        "n = int(input())\n",
        "for i in range(n):\n",
        "    m = int(input())\n",
        "    a = set(map(int, input().split()))\n",
        "    n = int(input())\n",
        "    b = set(map(int, input().split()))\n",
        "    print(a.issubset(b))"
      ],
      "metadata": {
        "id": "0tqXbypCSklz"
      },
      "execution_count": null,
      "outputs": []
    },
    {
      "cell_type": "markdown",
      "source": [
        "Check Strict Superset"
      ],
      "metadata": {
        "id": "xpPvkNqJUMt1"
      }
    },
    {
      "cell_type": "code",
      "source": [
        "a = set(map(int, input().split()))\n",
        "n = int(input())\n",
        "is_superset_for_all = True\n",
        "for i in range(n):\n",
        "    other_set = set(map(int, input().split()))\n",
        "    if not a.issuperset(other_set):\n",
        "        is_superset_for_all = False\n",
        "        \n",
        "print(is_superset_for_all)"
      ],
      "metadata": {
        "id": "AtsDoBB1UNQb"
      },
      "execution_count": null,
      "outputs": []
    },
    {
      "cell_type": "code",
      "source": [
        "for i in range(1, int(input())):\n",
        "    print((10**i // 9) * i)"
      ],
      "metadata": {
        "id": "JXGJdx4fxnmf"
      },
      "execution_count": null,
      "outputs": []
    },
    {
      "cell_type": "code",
      "source": [
        "if __name__ == '__main__':\n",
        "    a = int(input())\n",
        "    b = int(input())\n",
        "    c = int(input())\n",
        "    d = int(input())\n",
        "\n",
        "    result = a**b + c**d\n",
        "    print(result)"
      ],
      "metadata": {
        "id": "KJk1W2M7wqVP"
      },
      "execution_count": null,
      "outputs": []
    }
  ]
}