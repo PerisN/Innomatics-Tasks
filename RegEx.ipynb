{
  "nbformat": 4,
  "nbformat_minor": 0,
  "metadata": {
    "colab": {
      "provenance": []
    },
    "kernelspec": {
      "name": "python3",
      "display_name": "Python 3"
    },
    "language_info": {
      "name": "python"
    }
  },
  "cells": [
    {
      "cell_type": "markdown",
      "source": [
        "Detect Floating Point Number"
      ],
      "metadata": {
        "id": "XsXQ-J4TU-6f"
      }
    },
    {
      "cell_type": "code",
      "execution_count": null,
      "metadata": {
        "id": "bm2HVfGsUiEY"
      },
      "outputs": [],
      "source": [
        "n=int(input())\n",
        "for i in range(n):\n",
        "    try:\n",
        "        s=float(input())\n",
        "        if s==0.0:\n",
        "            print(False)\n",
        "        else:\n",
        "            print(True)\n",
        "    except Exception:\n",
        "        print(False)"
      ]
    },
    {
      "cell_type": "markdown",
      "source": [
        "Re.split()"
      ],
      "metadata": {
        "id": "DYWgHd9DVQzT"
      }
    },
    {
      "cell_type": "code",
      "source": [
        "regex_pattern = r\"[.,]+\"\n",
        "\n",
        "import re\n",
        "print(\"\\n\".join(re.split(regex_pattern, input())))"
      ],
      "metadata": {
        "id": "nezwOUGOVyuS"
      },
      "execution_count": null,
      "outputs": []
    },
    {
      "cell_type": "markdown",
      "source": [
        "Group(), Groups() & Groupdict()"
      ],
      "metadata": {
        "id": "qTxSDPz8Vz-7"
      }
    },
    {
      "cell_type": "code",
      "source": [
        "import re\n",
        "\n",
        "match = re.search(r'([A-Za-z\\d])(?=\\1)', input())\n",
        "print(match[0] if match else -1)"
      ],
      "metadata": {
        "id": "r5eHCvXnV0oz"
      },
      "execution_count": null,
      "outputs": []
    },
    {
      "cell_type": "markdown",
      "source": [
        "Re.findall() & Re.finditer()"
      ],
      "metadata": {
        "id": "cnYs8mtgV1Ec"
      }
    },
    {
      "cell_type": "code",
      "source": [
        "import re\n",
        "s = input()\n",
        "r = re.findall(r'(?<=[^aeiou])([aeiou]{2,})(?=[^aeiou])'\n",
        ",s,re.I)\n",
        "for i in r:\n",
        "    print(i)"
      ],
      "metadata": {
        "id": "SfktfJ7bV1YD"
      },
      "execution_count": null,
      "outputs": []
    },
    {
      "cell_type": "markdown",
      "source": [
        "Re.start() & Re.end()\n",
        "\n"
      ],
      "metadata": {
        "id": "pNZDBLrDV1pj"
      }
    },
    {
      "cell_type": "code",
      "source": [
        "m = input()\n",
        "n = input()\n",
        "\n",
        "for i in range(len(m) - len(n) + 1):\n",
        "    find = m[i:i + len(n)]\n",
        "    if find == n:\n",
        "        print(f\"({i}, {i + len(n) - 1})\")"
      ],
      "metadata": {
        "id": "JT92lj2oV1-7"
      },
      "execution_count": null,
      "outputs": []
    },
    {
      "cell_type": "markdown",
      "source": [
        "Regex Substitution"
      ],
      "metadata": {
        "id": "RNFUA3NQV2NU"
      }
    },
    {
      "cell_type": "code",
      "source": [
        "import re\n",
        "\n",
        "for _ in range(int(input())):\n",
        "    text = input()\n",
        "    text = re.sub(\"(?<=[ ])\\&\\&(?=[ ])\", \"and\", text)\n",
        "    text = re.sub(\"(?<=[ ])\\|\\|(?=[ ])\", \"or\", text)\n",
        "    print(text)"
      ],
      "metadata": {
        "id": "sSR8RbtYV2hr"
      },
      "execution_count": null,
      "outputs": []
    },
    {
      "cell_type": "markdown",
      "source": [
        "Roman Numerals"
      ],
      "metadata": {
        "id": "moMzT-CMZAuL"
      }
    },
    {
      "cell_type": "code",
      "source": [
        "regex_pattern = r\"^M{0,3}(CM|CD|D?C{0,3})(XC|XL|L?X{0,3})(IX|IV|V?I{0,3})$\"\n",
        "\n",
        "import re\n",
        "print(str(bool(re.match(regex_pattern, input()))))"
      ],
      "metadata": {
        "id": "3DFnmZpjZBXV"
      },
      "execution_count": null,
      "outputs": []
    },
    {
      "cell_type": "markdown",
      "source": [
        "Phone numbers"
      ],
      "metadata": {
        "id": "DRVQvuI5ZBtN"
      }
    },
    {
      "cell_type": "code",
      "source": [
        "import re\n",
        "\n",
        "[print('YES') if re.match('(^[789]\\d{9}$)', input()) else print('NO') for _ in range(int(input()))]"
      ],
      "metadata": {
        "id": "9EJDI-8YZB-j"
      },
      "execution_count": null,
      "outputs": []
    },
    {
      "cell_type": "markdown",
      "source": [
        "Email Addresses"
      ],
      "metadata": {
        "id": "udwyBpxjZCPb"
      }
    },
    {
      "cell_type": "code",
      "source": [
        "pattern = re.compile(r\"<[a-z][a-zA-Z0-9\\-\\.\\_]+\\@[a-zA-Z]+\\.[a-zA-Z]{1,3}>\")\n",
        "\n",
        "\n",
        "for a in range(int(input())):\n",
        "    b = input().split()\n",
        "    c = pattern.search(b[1])\n",
        "    if c:\n",
        "        print(b[0], c.string)"
      ],
      "metadata": {
        "id": "NCJVRvX0ZCrc"
      },
      "execution_count": null,
      "outputs": []
    },
    {
      "cell_type": "markdown",
      "source": [
        "Hex Color Code"
      ],
      "metadata": {
        "id": "izLX25c3awBs"
      }
    },
    {
      "cell_type": "code",
      "source": [
        "import re\n",
        "\n",
        "pattern = r'#[0-9A-Fa-f]{3,6}'\n",
        "\n",
        "for i in range(int(input())):\n",
        "    s = input()\n",
        "    if ':' in s:\n",
        "        res = re.findall(pattern, s)\n",
        "        if res:\n",
        "            print(*res, sep='\\n')"
      ],
      "metadata": {
        "id": "x1zra_8sbfak"
      },
      "execution_count": null,
      "outputs": []
    },
    {
      "cell_type": "markdown",
      "source": [
        "HTML Parser 1"
      ],
      "metadata": {
        "id": "qoXsB1U3bpLb"
      }
    },
    {
      "cell_type": "code",
      "source": [
        "from html.parser import HTMLParser\n",
        "\n",
        "class MyHTMLParser(HTMLParser):\n",
        "    def handle_starttag(self, tag, attrs):\n",
        "        print ('Start :', tag)\n",
        "        for ele in attrs:\n",
        "            print ('->', ele[0], '>', ele[1])\n",
        "    def handle_endtag(self, tag):\n",
        "        print ('End   :', tag)\n",
        "    def handle_startendtag(self, tag, attrs):\n",
        "        print ('Empty :', tag)\n",
        "        for ele in attrs:\n",
        "            print ('->', ele[0], '>', ele[1])\n",
        "parser = MyHTMLParser()\n",
        "for _ in range(int(input())):\n",
        "    parser.feed(input())"
      ],
      "metadata": {
        "id": "tci7SyC4bpgT"
      },
      "execution_count": null,
      "outputs": []
    },
    {
      "cell_type": "markdown",
      "source": [
        "HTML Parser 2"
      ],
      "metadata": {
        "id": "Wind62AHbrY0"
      }
    },
    {
      "cell_type": "code",
      "source": [
        "from html.parser import HTMLParser\n",
        "\n",
        "class MyHTMLParser(HTMLParser):\n",
        "    def handle_comment(self, comment):\n",
        "        if '\\n' in comment:\n",
        "            print('>>> Multi-line Comment')\n",
        "        else:\n",
        "            print('>>> Single-line Comment')\n",
        "\n",
        "        print(comment)\n",
        "\n",
        "    def handle_data(self, data):\n",
        "        if data == '\\n': return\n",
        "        print('>>> Data')\n",
        "        print(data)    \n",
        "html = \"\"       \n",
        "for i in range(int(input())):\n",
        "    html += input().rstrip()\n",
        "    html += '\\n'\n",
        "    \n",
        "parser = MyHTMLParser()\n",
        "parser.feed(html)\n",
        "parser.close()"
      ],
      "metadata": {
        "id": "C3IaQsgVbrmr"
      },
      "execution_count": null,
      "outputs": []
    },
    {
      "cell_type": "markdown",
      "source": [
        "Detect HTML tags, attributes and attribute values"
      ],
      "metadata": {
        "id": "_32Jwv5xcvrq"
      }
    },
    {
      "cell_type": "code",
      "source": [
        "from html.parser import HTMLParser\n",
        "\n",
        "class MyHTMLParser(HTMLParser):\n",
        "    def handle_starttag(self, tag, attrs):\n",
        "        print(tag)\n",
        "        [print('-> {} > {}'.format(*attr)) for attr in attrs]\n",
        "html = '\\n'.join([input() for _ in range(int(input()))])\n",
        "parser = MyHTMLParser()\n",
        "parser.feed(html)\n",
        "parser.close()"
      ],
      "metadata": {
        "id": "WssiLT9bcv8y"
      },
      "execution_count": null,
      "outputs": []
    },
    {
      "cell_type": "markdown",
      "source": [
        "Validating UID"
      ],
      "metadata": {
        "id": "-b5ZAebNcwfS"
      }
    },
    {
      "cell_type": "code",
      "source": [
        "import re\n",
        "\n",
        "for _ in range(int(input())):\n",
        "    u = ''.join(sorted(input()))\n",
        "    try:\n",
        "        assert re.search(r'[A-Z]{2}', u)\n",
        "        assert re.search(r'\\d\\d\\d', u)\n",
        "        assert not re.search(r'[^a-zA-Z0-9]', u)\n",
        "        assert not re.search(r'(.)\\1', u)\n",
        "        assert len(u) == 10\n",
        "    except:\n",
        "        print('Invalid')\n",
        "    else:\n",
        "        print('Valid')"
      ],
      "metadata": {
        "id": "GcS9dwpacwzr"
      },
      "execution_count": null,
      "outputs": []
    },
    {
      "cell_type": "markdown",
      "source": [
        "Validating credit card numbers"
      ],
      "metadata": {
        "id": "ybPqgCvucxG8"
      }
    },
    {
      "cell_type": "code",
      "source": [
        "import re\n",
        "n = int(input())\n",
        "for t in range(n):\n",
        "    credit = input().strip()\n",
        "    credit_removed_hiphen = credit.replace('-','')\n",
        "    valid = True\n",
        "    length_16 = bool(re.match(r'^[4-6]\\d{15}$',credit))\n",
        "    length_19 = bool(re.match(r'^[4-6]\\d{3}-\\d{4}-\\d{4}-\\d{4}$',credit))    \n",
        "    consecutive = bool(re.findall(r'(?=(\\d)\\1\\1\\1)',credit_removed_hiphen))\n",
        "    if length_16 == True or length_19 == True:\n",
        "        if consecutive == True:\n",
        "            valid=False\n",
        "    else:\n",
        "        valid = False       \n",
        "    if valid == True:\n",
        "        print('Valid')\n",
        "    else:\n",
        "        print('Invalid')"
      ],
      "metadata": {
        "id": "LoIQ0NqKcxnU"
      },
      "execution_count": null,
      "outputs": []
    },
    {
      "cell_type": "markdown",
      "source": [
        "Validating Postal Codes"
      ],
      "metadata": {
        "id": "5GdTCwKjcyGk"
      }
    },
    {
      "cell_type": "code",
      "source": [
        "regex_integer_in_range = r\"^[1-9][\\d]{5}$\"\n",
        "regex_alternating_repetitive_digit_pair = r\"(\\d)(?=\\d\\1)\" \n",
        "\n",
        "\n",
        "import re\n",
        "n = input()\n",
        "\n",
        "print (bool(re.match(regex_integer_in_range, n)) \n",
        "and len(re.findall(regex_alternating_repetitive_digit_pair, n)) < 2)"
      ],
      "metadata": {
        "id": "43_cshhmcybB"
      },
      "execution_count": null,
      "outputs": []
    },
    {
      "cell_type": "markdown",
      "source": [
        "Matrix Script"
      ],
      "metadata": {
        "id": "Ri8n7gN6cy9K"
      }
    },
    {
      "cell_type": "code",
      "source": [
        "import re\n",
        "\n",
        "n, m = map(int,input().split())\n",
        "character_ar = [''] * (n*m)\n",
        "for i in range(n):\n",
        "    line = input()\n",
        "    for j in range(m):\n",
        "        character_ar[i+(j*n)]=line[j]\n",
        "decoded_str = ''.join(character_ar)\n",
        "final_decoded_str = re.sub(r'(?<=[A-Za-z0-9])([ !@#$%&]+)(?=[A-Za-z0-9])',' ',decoded_str)\n",
        "print(final_decoded_str) "
      ],
      "metadata": {
        "id": "GXCtnl_PczSK"
      },
      "execution_count": null,
      "outputs": []
    }
  ]
}