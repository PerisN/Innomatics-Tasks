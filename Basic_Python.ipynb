{
  "nbformat": 4,
  "nbformat_minor": 0,
  "metadata": {
    "colab": {
      "provenance": []
    },
    "kernelspec": {
      "name": "python3",
      "display_name": "Python 3"
    },
    "language_info": {
      "name": "python"
    }
  },
  "cells": [
    {
      "cell_type": "code",
      "execution_count": null,
      "metadata": {
        "colab": {
          "base_uri": "https://localhost:8080/"
        },
        "id": "vyTUna3ZC5Ll",
        "outputId": "18a3ba5c-6202-4ce9-a0f8-755e80668eac"
      },
      "outputs": [
        {
          "output_type": "stream",
          "name": "stdout",
          "text": [
            "Hello, World!\n"
          ]
        }
      ],
      "source": [
        "if __name__ == '__main__':\n",
        "    print(\"Hello, World!\")"
      ]
    },
    {
      "cell_type": "markdown",
      "source": [
        "Python If-Else"
      ],
      "metadata": {
        "id": "qcQbkKx-ITAM"
      }
    },
    {
      "cell_type": "code",
      "source": [
        "import math\n",
        "import os\n",
        "import random\n",
        "import re\n",
        "import sys\n",
        "\n",
        "if __name__ == '__main__':\n",
        "    n = int(input().strip())\n",
        "if n % 2 != 0:\n",
        "    print(\"Weird\")\n",
        "elif n >= 2 and n <= 5:\n",
        "    print(\"Not Weird\")\n",
        "elif n >= 6 and n <= 20:\n",
        "    print(\"Weird\")\n",
        "else:\n",
        "    print(\"Not Weird\")\n"
      ],
      "metadata": {
        "id": "cx_hQwgsDstG"
      },
      "execution_count": null,
      "outputs": []
    },
    {
      "cell_type": "markdown",
      "source": [
        "Arithmetic Operators"
      ],
      "metadata": {
        "id": "IIhge3YeCgJt"
      }
    },
    {
      "cell_type": "code",
      "source": [
        "if __name__ == '__main__':\n",
        "    a = int(input())\n",
        "    b = int(input())\n",
        "    print(a + b)\n",
        "    print(a - b)\n",
        "    print(a * b)"
      ],
      "metadata": {
        "id": "yA_KJLSlIZHc"
      },
      "execution_count": null,
      "outputs": []
    },
    {
      "cell_type": "markdown",
      "source": [
        "Division"
      ],
      "metadata": {
        "id": "fpmb0ht8Cjks"
      }
    },
    {
      "cell_type": "code",
      "source": [
        "if __name__ == '__main__':\n",
        "    a = int(input())\n",
        "    b = int(input())\n",
        "    print(a//b)\n",
        "    print(a/b)"
      ],
      "metadata": {
        "id": "fPUy1RFuCsaJ"
      },
      "execution_count": null,
      "outputs": []
    },
    {
      "cell_type": "markdown",
      "source": [
        "Loops"
      ],
      "metadata": {
        "id": "myYJAoHTCttF"
      }
    },
    {
      "cell_type": "code",
      "source": [
        "if __name__ == '__main__':\n",
        "    n = int(input())\n",
        "    for i in range(n):\n",
        "        print(i**2)"
      ],
      "metadata": {
        "id": "1akeP_8MC1aT"
      },
      "execution_count": null,
      "outputs": []
    },
    {
      "cell_type": "markdown",
      "source": [
        "Function"
      ],
      "metadata": {
        "id": "y8G1zhnQC2Vz"
      }
    },
    {
      "cell_type": "code",
      "source": [
        "def is_leap(year):\n",
        "    leap = False\n",
        "    \n",
        "     # Check if the year is evenly divisible by 4\n",
        "    if year % 4 == 0:\n",
        "        \n",
        "        # If it is, check if it is also evenly divisible by 100\n",
        "        if year % 100 == 0:\n",
        "            \n",
        "            # If it is, check if it is also evenly divisible by 400\n",
        "            if year % 400 == 0:\n",
        "                leap = True\n",
        "        else:\n",
        "            leap = True\n",
        "    \n",
        "    return leap"
      ],
      "metadata": {
        "id": "vySGOG3lDCYD"
      },
      "execution_count": null,
      "outputs": []
    },
    {
      "cell_type": "markdown",
      "source": [
        "Print function"
      ],
      "metadata": {
        "id": "GaeHYtx7DDpa"
      }
    },
    {
      "cell_type": "code",
      "source": [
        "if __name__ == '__main__':\n",
        "    n = int(input())\n",
        "    \n",
        "     # Initialize an empty string\n",
        "    result = \"\"\n",
        "\n",
        "    # Iterate over the range of integers from 1 to n (inclusive)\n",
        "    for i in range(1, n+1):\n",
        "        # Append each integer to the string with no space\n",
        "        result += str(i)\n",
        "    \n",
        "    print(result)"
      ],
      "metadata": {
        "id": "xk2hirC0DLr1"
      },
      "execution_count": null,
      "outputs": []
    }
  ]
}