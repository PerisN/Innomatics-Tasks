{
  "nbformat": 4,
  "nbformat_minor": 0,
  "metadata": {
    "colab": {
      "provenance": []
    },
    "kernelspec": {
      "name": "python3",
      "display_name": "Python 3"
    },
    "language_info": {
      "name": "python"
    }
  },
  "cells": [
    {
      "cell_type": "markdown",
      "source": [
        "Polar Coordinates"
      ],
      "metadata": {
        "id": "OurMBAe8D6lm"
      }
    },
    {
      "cell_type": "code",
      "execution_count": null,
      "metadata": {
        "id": "ZXpwII3sD2Ql"
      },
      "outputs": [],
      "source": [
        "import cmath\n",
        "\n",
        "z = complex(input())\n",
        "print(abs(z))\n",
        "print(cmath.phase(z))"
      ]
    },
    {
      "cell_type": "markdown",
      "source": [
        "Find angle MBC"
      ],
      "metadata": {
        "id": "_FYqdOOzESHc"
      }
    },
    {
      "cell_type": "code",
      "source": [
        "import math\n",
        "\n",
        "ab=int(input())\n",
        "bc=int(input())\n",
        "val=math.degrees(math.atan(ab/bc))\n",
        "print(round(val),end=\"\")\n",
        "print(chr(176))"
      ],
      "metadata": {
        "id": "iiiJnfjaEnFS"
      },
      "execution_count": null,
      "outputs": []
    },
    {
      "cell_type": "markdown",
      "source": [
        "Triangle Quest 2"
      ],
      "metadata": {
        "id": "8YK03DW8FBWc"
      }
    },
    {
      "cell_type": "code",
      "source": [
        "for i in range(1,int(input())+1): print(int(((10**i - 1)/9))**2) "
      ],
      "metadata": {
        "id": "eXsyft5fFDMA"
      },
      "execution_count": null,
      "outputs": []
    },
    {
      "cell_type": "markdown",
      "source": [
        "Mod Divmod"
      ],
      "metadata": {
        "id": "ulovZp0TFEiE"
      }
    },
    {
      "cell_type": "code",
      "source": [
        "a = int(input())\n",
        "b = int(input())\n",
        "print(*divmod(a, b), divmod(a, b), sep='\\n')"
      ],
      "metadata": {
        "id": "aVUgtDgFFEH2"
      },
      "execution_count": null,
      "outputs": []
    },
    {
      "cell_type": "markdown",
      "source": [
        "Mod Power"
      ],
      "metadata": {
        "id": "qPbf7AJoGGi0"
      }
    },
    {
      "cell_type": "code",
      "source": [
        "a = int(input())\n",
        "b = int(input())\n",
        "m = int(input())\n",
        "print(pow(a,b))\n",
        "print(pow(a,b,m))"
      ],
      "metadata": {
        "id": "Pm3PWX5oGG48"
      },
      "execution_count": null,
      "outputs": []
    },
    {
      "cell_type": "markdown",
      "source": [
        "Integers come in all sizes"
      ],
      "metadata": {
        "id": "dzdQe1_rHoz0"
      }
    },
    {
      "cell_type": "code",
      "source": [
        "if __name__ == '__main__':\n",
        "    a = int(input())\n",
        "    b = int(input())\n",
        "    c = int(input())\n",
        "    d = int(input())\n",
        "\n",
        "    result = a**b + c**d\n",
        "    print(result)"
      ],
      "metadata": {
        "id": "hLHdWA8kHpSU"
      },
      "execution_count": null,
      "outputs": []
    },
    {
      "cell_type": "markdown",
      "source": [
        "Triangle Quest"
      ],
      "metadata": {
        "id": "ecQAQsf7GHS0"
      }
    },
    {
      "cell_type": "code",
      "source": [
        "for i in range(1,int(input())):\n",
        "    print(i*(10**i-1)//9)"
      ],
      "metadata": {
        "id": "lQlpuO_RGHpV"
      },
      "execution_count": null,
      "outputs": []
    }
  ]
}