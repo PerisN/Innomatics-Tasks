{
  "nbformat": 4,
  "nbformat_minor": 0,
  "metadata": {
    "colab": {
      "provenance": []
    },
    "kernelspec": {
      "name": "python3",
      "display_name": "Python 3"
    },
    "language_info": {
      "name": "python"
    }
  },
  "cells": [
    {
      "cell_type": "markdown",
      "source": [
        "Swap cases"
      ],
      "metadata": {
        "id": "IVR7gYn43F0j"
      }
    },
    {
      "cell_type": "code",
      "execution_count": null,
      "metadata": {
        "id": "7Q3OAQYG17Pg"
      },
      "outputs": [],
      "source": [
        "def swap_case(s):\n",
        "    return s.swapcase()\n",
        "\n",
        "if __name__ == '__main__':\n",
        "    s = input()\n",
        "    result = swap_case(s)\n",
        "    print(result)"
      ]
    },
    {
      "cell_type": "markdown",
      "source": [
        "Split and Join"
      ],
      "metadata": {
        "id": "uVeYwjvi4PdY"
      }
    },
    {
      "cell_type": "code",
      "source": [
        "def split_and_join(line):\n",
        "    \n",
        "    # Split the line into a list of words\n",
        "    words = line.split()\n",
        "    \n",
        "    # Join the words with a hyphen in between\n",
        "    hyphenated = \"-\".join(words)\n",
        "    \n",
        "    return hyphenated \n",
        "    # write your code here\n",
        "\n",
        "if __name__ == '__main__':\n",
        "    line = input()\n",
        "    result = split_and_join(line)\n",
        "    print(result)"
      ],
      "metadata": {
        "id": "pFCkUD9t3P8J"
      },
      "execution_count": null,
      "outputs": []
    },
    {
      "cell_type": "markdown",
      "source": [
        "Print first and last name"
      ],
      "metadata": {
        "id": "6s8y4dgp5cWD"
      }
    },
    {
      "cell_type": "code",
      "source": [
        "def print_full_name(first, last):\n",
        "    # Write your code here\n",
        "    print(\"Hello\",first,last+\"! You just delved into python.\")\n",
        "\n",
        "if __name__ == '__main__':\n",
        "    first_name = input()\n",
        "    last_name = input()\n",
        "    print_full_name(first_name, last_name)"
      ],
      "metadata": {
        "id": "ZuAoC7Jc4TaI"
      },
      "execution_count": null,
      "outputs": []
    },
    {
      "cell_type": "markdown",
      "source": [
        "Find a string"
      ],
      "metadata": {
        "id": "eIwIv8qJ5gzh"
      }
    },
    {
      "cell_type": "code",
      "source": [
        "def count_substring(string, sub_string):\n",
        "    count = 0\n",
        "    for i in range(len(string)):\n",
        "        if string[i:].startswith(sub_string):\n",
        "            count += 1\n",
        "    return count\n",
        "\n",
        "\n",
        "if __name__ == '__main__':\n",
        "    string = input().strip()\n",
        "    sub_string = input().strip()\n",
        "    \n",
        "    count = count_substring(string, sub_string)\n",
        "    print(count)"
      ],
      "metadata": {
        "id": "DOlG2YeN5hUK"
      },
      "execution_count": null,
      "outputs": []
    },
    {
      "cell_type": "markdown",
      "source": [
        "String Validators"
      ],
      "metadata": {
        "id": "IW42CXhr66Kh"
      }
    },
    {
      "cell_type": "code",
      "source": [
        "if __name__ == '__main__':\n",
        "    s = input()\n",
        "    \n",
        "    # Check for alphanumeric characters\n",
        "    print(any(c.isalnum() for c in s))\n",
        "    \n",
        "    # Check for alphabetical characters\n",
        "    print(any(c.isalpha() for c in s))\n",
        "    \n",
        "    # Check for digits\n",
        "    print(any(c.isdigit() for c in s))\n",
        "    \n",
        "    # Check for lowercase characters\n",
        "    print(any(c.islower() for c in s))\n",
        "    \n",
        "    # Check for uppercase characters\n",
        "    print(any(c.isupper() for c in s))"
      ],
      "metadata": {
        "id": "_IhlZ-vJ66q5"
      },
      "execution_count": null,
      "outputs": []
    },
    {
      "cell_type": "markdown",
      "source": [
        "Capitalize"
      ],
      "metadata": {
        "id": "na4etMK3789q"
      }
    },
    {
      "cell_type": "code",
      "source": [
        "def solve(s):\n",
        "    words = s.split(' ')\n",
        "    capitalized_words = [word.capitalize() for word in words]\n",
        "    # Join the capitalized words with space and return the result\n",
        "    return ' '.join(capitalized_words) \n",
        "\n",
        "if __name__ == '__main__':\n",
        "    fptr = open(os.environ['OUTPUT_PATH'], 'w')\n",
        "    s = input()\n",
        "    result = solve(s)\n",
        "    fptr.write(result + '\\n')\n",
        "    fptr.close()"
      ],
      "metadata": {
        "id": "ee2fPsZm79U6"
      },
      "execution_count": null,
      "outputs": []
    },
    {
      "cell_type": "markdown",
      "source": [
        "Mutations"
      ],
      "metadata": {
        "id": "JYDyX1JUAA5L"
      }
    },
    {
      "cell_type": "code",
      "source": [
        "def mutate_string(string, position, character):\n",
        "    return string[:position] + character + string[position+1:]\n",
        "\n",
        "if __name__ == '__main__':\n",
        "    s = input()\n",
        "    i, c = input().split()\n",
        "    s_new = mutate_string(s, int(i), c)\n",
        "    print(s_new)"
      ],
      "metadata": {
        "id": "iuJi0dWEABNr"
      },
      "execution_count": null,
      "outputs": []
    },
    {
      "cell_type": "markdown",
      "source": [
        "Text Alignment"
      ],
      "metadata": {
        "id": "PoOyPitRABk6"
      }
    },
    {
      "cell_type": "code",
      "source": [
        "#Replace all ______ with rjust, ljust or center. \n",
        "\n",
        "thickness = int(input())\n",
        "c = 'H'\n",
        "\n",
        "#Top Cone\n",
        "for i in range(thickness):\n",
        "    print((c*i).rjust(thickness-1)+c+(c*i).ljust(thickness-1))\n",
        "\n",
        "#Top Pillars\n",
        "for i in range(thickness+1):\n",
        "    print((c*thickness).center(thickness*2)+(c*thickness).center(thickness*6))\n",
        "\n",
        "#Middle Belt\n",
        "for i in range((thickness+1)//2):\n",
        "    print((c*thickness*5).center(thickness*6))    \n",
        "\n",
        "#Bottom Pillars\n",
        "for i in range(thickness+1):\n",
        "    print((c*thickness).center(thickness*2)+(c*thickness).center(thickness*6))    \n",
        "\n",
        "#Bottom Cone\n",
        "for i in range(thickness):\n",
        "    print(((c*(thickness-i-1)).rjust(thickness)+c+(c*(thickness-i-1)).ljust(thickness)).rjust(thickness*6))"
      ],
      "metadata": {
        "id": "E9g4uMv2AB9S"
      },
      "execution_count": null,
      "outputs": []
    },
    {
      "cell_type": "markdown",
      "source": [
        "Text Wrap"
      ],
      "metadata": {
        "id": "3bXgNVoNvO2k"
      }
    },
    {
      "cell_type": "code",
      "source": [
        "import textwrap\n",
        "\n",
        "def wrap(string, max_width):\n",
        "    return \"\\n\".join(textwrap.wrap(string, max_width))\n",
        "\n",
        "if __name__ == '__main__':\n",
        "    string, max_width = input(), int(input())\n",
        "    result = wrap(string, max_width)\n",
        "    print(result)"
      ],
      "metadata": {
        "id": "Cdwe8ggsvPYJ"
      },
      "execution_count": null,
      "outputs": []
    },
    {
      "cell_type": "markdown",
      "source": [
        "Designer Doormat"
      ],
      "metadata": {
        "id": "HYumSj9UvP0I"
      }
    },
    {
      "cell_type": "code",
      "source": [
        "n, m = map(int,input().split())\n",
        "pattern = [('.|.'*(2*i + 1)).center(m, '-') for i in range(n//2)]\n",
        "print('\\n'.join(pattern + ['WELCOME'.center(m, '-')] + pattern[::-1]))"
      ],
      "metadata": {
        "id": "wwjR0KegvQOp"
      },
      "execution_count": null,
      "outputs": []
    },
    {
      "cell_type": "markdown",
      "source": [
        "String Formatting"
      ],
      "metadata": {
        "id": "rxs7q103w-cy"
      }
    },
    {
      "cell_type": "code",
      "source": [
        "def print_formatted(number):\n",
        "    # your code goes \n",
        "      binn = bin(n).replace(\"0b\",\"\")\n",
        "      for i in range(1,n+1):\n",
        "        deci = str(i)\n",
        "        deci = (len(binn)-len(deci))*\" \"+deci\n",
        "        \n",
        "        octa = oct(i).replace(\"0o\",\"\")\n",
        "        octa = (len(binn)-len(octa))*\" \"+octa\n",
        "        \n",
        "        hexi = hex(i).replace(\"0x\",\"\").upper()\n",
        "        hexi = (len(binn)-len(hexi))*\" \"+hexi\n",
        "        \n",
        "        bina = bin(i).replace(\"0b\",\"\")\n",
        "        bina = (len(binn)-len(bina))*\" \"+bina\n",
        "        print(deci,octa,hexi,bina)\n",
        "\n",
        "if __name__ == '__main__':\n",
        "    n = int(input())\n",
        "    print_formatted(n)"
      ],
      "metadata": {
        "id": "j7Jsuqj2w-5B"
      },
      "execution_count": null,
      "outputs": []
    },
    {
      "cell_type": "markdown",
      "source": [
        "Minion Game"
      ],
      "metadata": {
        "id": "U2rH-lDFw_Y4"
      }
    },
    {
      "cell_type": "code",
      "source": [
        "def minion_game(string):\n",
        "    # your code goes here\n",
        "    vowel = 'aeiou'.upper()\n",
        "    strl = len(string)\n",
        "    kevin = sum(strl-i for i in range(strl) if string[i] in vowel)\n",
        "    stuart = strl*(strl + 1)/2 - kevin\n",
        "    if kevin == stuart:\n",
        "        print ('Draw')\n",
        "    elif kevin > stuart:\n",
        "        print ('Kevin %d' % kevin)\n",
        "    else:\n",
        "        print ('Stuart %d' % stuart)\n",
        "\n",
        "if __name__ == '__main__':\n",
        "    s = input()\n",
        "    minion_game(s)   "
      ],
      "metadata": {
        "id": "bp64p3Bew_v6"
      },
      "execution_count": null,
      "outputs": []
    },
    {
      "cell_type": "markdown",
      "source": [
        "Merge the tools"
      ],
      "metadata": {
        "id": "SY3AXuF_xAqh"
      }
    },
    {
      "cell_type": "code",
      "source": [
        "def merge_the_tools(string, k):\n",
        "    # your code goes here\n",
        "    temp = []\n",
        "    len_temp = 0\n",
        "    for item in string:\n",
        "        len_temp += 1\n",
        "        if item not in temp:\n",
        "            temp.append(item)\n",
        "        if len_temp == k:\n",
        "            print (''.join(temp))\n",
        "            temp = []\n",
        "            len_temp = 0\n",
        "\n",
        "if __name__ == '__main__':\n",
        "    string, k = input(), int(input())\n",
        "    merge_the_tools(string, k)"
      ],
      "metadata": {
        "id": "l083JIXOxBII"
      },
      "execution_count": null,
      "outputs": []
    }
  ]
}